{
 "cells": [
  {
   "cell_type": "markdown",
   "metadata": {},
   "source": [
    "Let's make a flux plot after having run the flux analysis in the QN cosmic ray elab."
   ]
  },
  {
   "cell_type": "code",
   "execution_count": 149,
   "metadata": {
    "collapsed": false
   },
   "outputs": [],
   "source": [
    "import pandas as pd"
   ]
  },
  {
   "cell_type": "markdown",
   "metadata": {},
   "source": [
    "First load the data file into a data frame, defining the columns, and show the contents:"
   ]
  },
  {
   "cell_type": "code",
   "execution_count": 150,
   "metadata": {
    "collapsed": false
   },
   "outputs": [
    {
     "data": {
      "text/html": [
       "<div>\n",
       "<table border=\"1\" class=\"dataframe\">\n",
       "  <thead>\n",
       "    <tr style=\"text-align: right;\">\n",
       "      <th></th>\n",
       "      <th>date</th>\n",
       "      <th>time</th>\n",
       "      <th>flux</th>\n",
       "      <th>err</th>\n",
       "    </tr>\n",
       "  </thead>\n",
       "  <tbody>\n",
       "    <tr>\n",
       "      <th>0</th>\n",
       "      <td>05/17/2016</td>\n",
       "      <td>03:00:07</td>\n",
       "      <td>5.920090</td>\n",
       "      <td>0.798265</td>\n",
       "    </tr>\n",
       "    <tr>\n",
       "      <th>1</th>\n",
       "      <td>05/17/2016</td>\n",
       "      <td>05:00:07</td>\n",
       "      <td>5.920090</td>\n",
       "      <td>0.798265</td>\n",
       "    </tr>\n",
       "    <tr>\n",
       "      <th>2</th>\n",
       "      <td>05/17/2016</td>\n",
       "      <td>07:00:07</td>\n",
       "      <td>7.319383</td>\n",
       "      <td>0.887606</td>\n",
       "    </tr>\n",
       "    <tr>\n",
       "      <th>3</th>\n",
       "      <td>05/17/2016</td>\n",
       "      <td>09:00:07</td>\n",
       "      <td>5.920090</td>\n",
       "      <td>0.798265</td>\n",
       "    </tr>\n",
       "    <tr>\n",
       "      <th>4</th>\n",
       "      <td>05/17/2016</td>\n",
       "      <td>11:00:07</td>\n",
       "      <td>5.704814</td>\n",
       "      <td>0.783616</td>\n",
       "    </tr>\n",
       "  </tbody>\n",
       "</table>\n",
       "</div>"
      ],
      "text/plain": [
       "         date      time      flux       err\n",
       "0  05/17/2016  03:00:07  5.920090  0.798265\n",
       "1  05/17/2016  05:00:07  5.920090  0.798265\n",
       "2  05/17/2016  07:00:07  7.319383  0.887606\n",
       "3  05/17/2016  09:00:07  5.920090  0.798265\n",
       "4  05/17/2016  11:00:07  5.704814  0.783616"
      ]
     },
     "execution_count": 150,
     "metadata": {},
     "output_type": "execute_result"
    }
   ],
   "source": [
    "names = ['date', 'time', 'flux', 'err']\n",
    "\n",
    "df = pd.read_csv('data/flux.out', delim_whitespace=True, header=0, names=names, skiprows=[0,1])\n",
    "df.head()"
   ]
  },
  {
   "cell_type": "code",
   "execution_count": 151,
   "metadata": {
    "collapsed": false
   },
   "outputs": [],
   "source": [
    "%matplotlib inline\n",
    "import matplotlib.pyplot as plt\n",
    "import numpy as np"
   ]
  },
  {
   "cell_type": "markdown",
   "metadata": {},
   "source": [
    "We need to handle the date and times and specify a time zone:"
   ]
  },
  {
   "cell_type": "code",
   "execution_count": 152,
   "metadata": {
    "collapsed": false
   },
   "outputs": [],
   "source": [
    "dt = df['date'] + ' ' + df['time']\n",
    "\n",
    "datetime = pd.to_datetime(dt, format='%m/%d/%Y %H:%M:%S')\n",
    "datetime = datetime.apply(lambda x: x.tz_localize('US/Central'))\n",
    "\n",
    "tds = datetime - datetime[0]\n",
    "tds = tds.apply(lambda x: x.days*24 + (x.seconds/3600.))"
   ]
  },
  {
   "cell_type": "markdown",
   "metadata": {},
   "source": [
    "Now plot the flux as a function of the number of hours since the start of our time range:"
   ]
  },
  {
   "cell_type": "code",
   "execution_count": 153,
   "metadata": {
    "collapsed": false
   },
   "outputs": [
    {
     "data": {
      "image/png": "[encoded data removed]",
      "text/plain": [
       "<matplotlib.figure.Figure at 0x10bcc3810>"
      ]
     },
     "metadata": {},
     "output_type": "display_data"
    }
   ],
   "source": [
    "plt.errorbar(x=tds, y=df['flux'], yerr=df['err'], linestyle='None', color='r', marker='o')\n",
    "plt.ylim((0,10))\n",
    "plt.xlabel('Time [hours]')\n",
    "plt.ylabel('Flux [events / m^2 / 60 s]')\n",
    "plt.show()"
   ]
  },
  {
   "cell_type": "code",
   "execution_count": null,
   "metadata": {
    "collapsed": true
   },
   "outputs": [],
   "source": []
  }
 ],
 "metadata": {
  "kernelspec": {
   "display_name": "Python 2",
   "language": "python",
   "name": "python2"
  },
  "language_info": {
   "codemirror_mode": {
    "name": "ipython",
    "version": 2
   },
   "file_extension": ".py",
   "mimetype": "text/x-python",
   "name": "python",
   "nbconvert_exporter": "python",
   "pygments_lexer": "ipython2",
   "version": "2.7.5"
  }
 },
 "nbformat": 4,
 "nbformat_minor": 0
}
